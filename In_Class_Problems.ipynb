{
 "cells": [
  {
   "cell_type": "code",
   "execution_count": 15,
   "metadata": {},
   "outputs": [],
   "source": [
    "import nltk\n",
    "#nltk.download()\n",
    "from nltk.corpus import wordnet as wn\n",
    "import numpy as np\n",
    "import matplotlib.pyplot as plt"
   ]
  },
  {
   "cell_type": "markdown",
   "metadata": {},
   "source": [
    "### WordNet:\n",
    "A large lexical database of English. Nouns, verbs, adjectives and adverbs are grouped into sets of cognitive synonyms (synsets), each expressing a distinct concept. Synsets are interlinked by means of conceptual-semantic and lexical relations."
   ]
  },
  {
   "cell_type": "code",
   "execution_count": 3,
   "metadata": {},
   "outputs": [
    {
     "data": {
      "text/plain": [
       "[Synset('medicine.n.02'),\n",
       " Synset('drug.n.01'),\n",
       " Synset('agent.n.03'),\n",
       " Synset('causal_agent.n.01'),\n",
       " Synset('substance.n.07'),\n",
       " Synset('physical_entity.n.01'),\n",
       " Synset('matter.n.03'),\n",
       " Synset('entity.n.01')]"
      ]
     },
     "execution_count": 3,
     "metadata": {},
     "output_type": "execute_result"
    }
   ],
   "source": [
    "dose = wn.synset('dose.n.01')\n",
    "hyper = lambda s : s.hypernyms()\n",
    "list(dose.closure(hyper))"
   ]
  },
  {
   "cell_type": "markdown",
   "metadata": {},
   "source": [
    "### Simple SVD Word Vectors"
   ]
  },
  {
   "cell_type": "code",
   "execution_count": 6,
   "metadata": {},
   "outputs": [],
   "source": [
    "la = np.linalg\n",
    "words = [\"I\", \"like\", \"enjoy\", \"deep\", \"learning\", \"NLP\", \"flying\", \".\"]\n",
    "X = np.array([[0, 2, 1, 0, 0, 0, 0, 0],\n",
    "              [2, 0, 0, 1, 0, 1, 0, 0],\n",
    "              [1, 0, 0, 0, 0, 0, 1, 0],\n",
    "              [0, 1, 0, 0, 1, 0, 0, 0],\n",
    "              [0, 0, 0, 1, 0, 0, 0, 1],\n",
    "              [0, 1, 0, 0, 0, 0, 0, 1],\n",
    "              [0, 0, 1, 0, 0, 0, 0, 1],\n",
    "              [0, 0, 0, 0, 1, 1, 1, 0]])\n",
    "U, s, Vh = la.svd(X, full_matrices = False)"
   ]
  },
  {
   "cell_type": "code",
   "execution_count": 29,
   "metadata": {},
   "outputs": [
    {
     "data": {
      "image/png": "[encoded data removed]",
      "text/plain": [
       "<matplotlib.figure.Figure at 0x1a14178668>"
      ]
     },
     "metadata": {},
     "output_type": "display_data"
    }
   ],
   "source": [
    "for i in range(len(words)):\n",
    "    plt.plot(U[i,0], U[i,1], 'k')\n",
    "    plt.text(U[i,0], U[i,1], words[i])\n",
    "plt.show()"
   ]
  },
  {
   "cell_type": "markdown",
   "metadata": {},
   "source": [
    "### Problems With SVD\n",
    "1. Computational cost scales up quadratically for n x m matrix\n",
    "\n",
    " -> Bad for millions of words or documents\n",
    "2. Hard to add new words/docs\n",
    "3. Diff learning regime than other DL models"
   ]
  },
  {
   "cell_type": "markdown",
   "metadata": {},
   "source": [
    "### Main idea of word2vec\n",
    "\n",
    "Predict n words to left and n words to right\n",
    "\n",
    "Good thing: easy to add new words/sentences/docs\n",
    "\n",
    "Objective function: \n",
    "\\begin{equation*}\n",
    "J(\\theta)   = \\frac{1}{T} \\sum_{t=1}^{T} \\sum_{-m \\leq j\\leq m, j \\neq 0} \\log p(w_{t+j}|w_t)\n",
    "\\end{equation*}\n",
    "\n",
    "Explanation:\n",
    "From a very large corpus of T tokens, and take each word ($w_t$ = center word). Take m words to the left and the right, maximize the log prob of these words given the center word. \n",
    "\n",
    "$\\theta$ : all word vectors that are being jointly optimized.\n"
   ]
  },
  {
   "cell_type": "code",
   "execution_count": null,
   "metadata": {},
   "outputs": [],
   "source": []
  },
  {
   "cell_type": "code",
   "execution_count": null,
   "metadata": {},
   "outputs": [],
   "source": []
  }
 ],
 "metadata": {
  "kernelspec": {
   "display_name": "Python 3",
   "language": "python",
   "name": "python3"
  },
  "language_info": {
   "codemirror_mode": {
    "name": "ipython",
    "version": 3
   },
   "file_extension": ".py",
   "mimetype": "text/x-python",
   "name": "python",
   "nbconvert_exporter": "python",
   "pygments_lexer": "ipython3",
   "version": "3.6.2"
  }
 },
 "nbformat": 4,
 "nbformat_minor": 2
}
